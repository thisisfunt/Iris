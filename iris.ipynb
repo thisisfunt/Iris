{
 "cells": [
  {
   "cell_type": "markdown",
   "metadata": {},
   "source": [
    "Iris-verginica  - 3   c - b<br/>\n",
    "Iris-versicolor - 2   c - g<br/>\n",
    "Iris-setosa     - 1   c - r<br/>"
   ]
  },
  {
   "cell_type": "markdown",
   "metadata": {},
   "source": [
    "Импорт модулей"
   ]
  },
  {
   "cell_type": "code",
   "execution_count": 202,
   "metadata": {},
   "outputs": [],
   "source": [
    "import pandas as pd\n",
    "import numpy as np\n",
    "import math\n",
    "import matplotlib.pyplot as plt"
   ]
  },
  {
   "cell_type": "markdown",
   "metadata": {},
   "source": [
    "Изменение данных"
   ]
  },
  {
   "cell_type": "code",
   "execution_count": 223,
   "metadata": {},
   "outputs": [],
   "source": [
    "data = pd.read_csv(\"iris.csv\")\n",
    "data = data.to_dict()\n",
    "data_cl = []\n",
    "for i in range(0, len(data[\"Id\"])):\n",
    "    _cl = None\n",
    "    if data[\"Species\"][i] == \"Iris-virginica\":\n",
    "        _cl = 3\n",
    "    elif data[\"Species\"][i] == \"Iris-versicolor\":\n",
    "        _cl = 2\n",
    "    elif data[\"Species\"][i] == \"Iris-setosa\":\n",
    "        _cl = 1\n",
    "    data_cl.append([\n",
    "        data[\"PetalLengthCm\"][i],\n",
    "        data[\"PetalWidthCm\"][i],\n",
    "        _cl\n",
    "    ])"
   ]
  },
  {
   "cell_type": "markdown",
   "metadata": {},
   "source": [
    "Функция предсказания"
   ]
  },
  {
   "cell_type": "code",
   "execution_count": 210,
   "metadata": {},
   "outputs": [],
   "source": [
    "def predict(test, n):\n",
    "    relations = []\n",
    "    for i in range(len(data_cl)):\n",
    "        dist = math.sqrt((data_cl[i][0] - test[0])**2 + (data_cl[i][1] - test[1])**2)\n",
    "        relations.append([\n",
    "            dist, data_cl[i][2]\n",
    "    ])\n",
    "    relations.sort()\n",
    "    relations = relations[:5]\n",
    "    classes_count = {\n",
    "    1:0,\n",
    "    2:0,\n",
    "    3:0\n",
    "    }\n",
    "    for i in relations:\n",
    "        classes_count[i[1]] = classes_count[i[1]] + 1\n",
    "    max_i = 0\n",
    "    for i in range(1, 4):\n",
    "        if classes_count[i] > max_i:\n",
    "            max_i = i\n",
    "    return max_i"
   ]
  },
  {
   "cell_type": "markdown",
   "metadata": {},
   "source": [
    "Тестировка алгоритма"
   ]
  },
  {
   "cell_type": "code",
   "execution_count": 220,
   "metadata": {},
   "outputs": [],
   "source": [
    "test_data = data_cl[::1]\n",
    "\n",
    "t = []\n",
    "f = []\n",
    "for i in range(0, len(predicts)):\n",
    "    if test_data[i][2] == predicts[i]:\n",
    "        t.append(i)\n",
    "    else:\n",
    "        f.append(i)\n",
    "print(f\"true -- {len(t)}\")\n",
    "print(f\"false -- {len(f)}\")\n",
    "1 + 1"
   ]
  }
 ],
 "metadata": {
  "kernelspec": {
   "display_name": "Python 3",
   "language": "python",
   "name": "python3"
  },
  "language_info": {
   "codemirror_mode": {
    "name": "ipython",
    "version": 3
   },
   "file_extension": ".py",
   "mimetype": "text/x-python",
   "name": "python",
   "nbconvert_exporter": "python",
   "pygments_lexer": "ipython3",
   "version": "3.6.5"
  }
 },
 "nbformat": 4,
 "nbformat_minor": 2
}
